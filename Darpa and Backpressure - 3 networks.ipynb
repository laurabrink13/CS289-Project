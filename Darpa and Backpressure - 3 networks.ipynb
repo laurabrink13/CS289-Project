{
 "cells": [
  {
   "cell_type": "markdown",
   "metadata": {},
   "source": [
    "## Initialize the system"
   ]
  },
  {
   "cell_type": "code",
   "execution_count": 10,
   "metadata": {
    "collapsed": false
   },
   "outputs": [
    {
     "name": "stdout",
     "output_type": "stream",
     "text": [
      "There are 3 networks with [4, 4, 4] nodes respectively\n",
      "There are 2 commodities with [0.5, 0.5] weights resptively\n",
      "There are 2 frequency bands and all networks have the same notion of frequency\n"
     ]
    }
   ],
   "source": [
    "import numpy as np\n",
    "import matplotlib.pyplot as plt\n",
    "import itertools\n",
    "\n",
    "G=3 # number of networks\n",
    "N=[4,4,4] # number of nodes in each network\n",
    "K=2 # number of commodities\n",
    "K_weight=[0.5,0.5]\n",
    "F=2 # number of frequency bands\n",
    "\n",
    "# matrix of queue lengths for each commodity\n",
    "queues_k1=[np.zeros(N[0]),np.zeros(N[1]),np.zeros(N[2])]\n",
    "queues_k2=[np.zeros(N[0]),np.zeros(N[1]),np.zeros(N[2])]\n",
    "\n",
    "# matrix of intranetwork links\n",
    "intranetwork_links_0=np.zeros((N[0],N[0]))\n",
    "intranetwork_links_1=np.zeros((N[1],N[1]))\n",
    "intranetwork_links_2=np.zeros((N[2],N[2]))\n",
    "intra_links=[intranetwork_links_0,intranetwork_links_1, intranetwork_links_2]\n",
    "\n",
    "# assume we have links 0->1->3 and 0->2->3 for all networks where 3 is the sink\n",
    "for i in range(0,len(intra_links)):\n",
    "    intra_links[i][0,1]=1\n",
    "    intra_links[i][0,2]=1\n",
    "    intra_links[i][1,3]=1\n",
    "    intra_links[i][2,3]=1\n",
    "\n",
    "# define transmission rate matrix \n",
    "# we are assuming that each link is on and can transmit one packet each time step\n",
    "state=intra_links\n",
    "\n",
    "# outside arrival probability matrix for each node in the networks (probability that a packet arrives)\n",
    "# for each commodity \n",
    "arrivals_k1=[np.zeros(N[0]),np.zeros(N[1]),np.zeros(N[2])]\n",
    "arrivals_k2=[np.zeros(N[0]),np.zeros(N[1]),np.zeros(N[2])]\n",
    "for j in range(0,len(arrivals_k1)):\n",
    "    arrivals_k1[j][0]=0.5\n",
    "    arrivals_k2[j][0]=0.3\n",
    "\n",
    "print(\"There are\", G, \"networks with\", N, \"nodes respectively\")\n",
    "print(\"There are\", K, \"commodities with\",K_weight,\"weights resptively\")\n",
    "print(\"There are\", F, \"frequency bands and all networks have the same notion of frequency\")"
   ]
  },
  {
   "cell_type": "markdown",
   "metadata": {},
   "source": [
    "## Begin the Period"
   ]
  },
  {
   "cell_type": "markdown",
   "metadata": {},
   "source": [
    "At the beginning of a period of length T, the interference links will be randomly assigned a 0 or 1 if interference will occur between nodes across networks.  This will not change during the period but the networks won't have access to it.\n",
    "Also at the beginning of the period, all of the networks communicate something about what they are doing.\n",
    "This will be stored in their knowledge base.\n",
    "Each network will be using the backpressure algorithm to route variables."
   ]
  },
  {
   "cell_type": "code",
   "execution_count": 13,
   "metadata": {
    "collapsed": false
   },
   "outputs": [
    {
     "name": "stdout",
     "output_type": "stream",
     "text": [
      "k1 queues [ 2.  2.  1.  0.]\n",
      "k2 queues [ 0.  1.  1.  0.]\n",
      "control taken [[ 0.  0.  1.  0.]\n",
      " [ 0.  0.  0.  1.]\n",
      " [ 0.  0.  0.  1.]\n",
      " [ 0.  0.  0.  0.]]\n",
      "k1 queues [ 2.  2.  0.  0.]\n",
      "k2 queues [ 0.  1.  1.  0.]\n",
      "control taken [[ 0.  0.  1.  0.]\n",
      " [ 0.  0.  0.  1.]\n",
      " [ 0.  0.  0.  1.]\n",
      " [ 0.  0.  0.  0.]]\n",
      "k1 queues [ 2.  2.  0.  0.]\n",
      "k2 queues [ 0.  1.  1.  0.]\n",
      "control taken [[ 0.  0.  1.  0.]\n",
      " [ 0.  0.  0.  1.]\n",
      " [ 0.  0.  0.  1.]\n",
      " [ 0.  0.  0.  0.]]\n",
      "k1 queues [ 3.  2.  0.  0.]\n",
      "k2 queues [ 0.  1.  1.  0.]\n",
      "control taken [[ 0.  1.  1.  0.]\n",
      " [ 0.  0.  0.  1.]\n",
      " [ 0.  0.  0.  1.]\n",
      " [ 0.  0.  0.  0.]]\n",
      "k1 queues [ 3.  2.  0.  0.]\n",
      "k2 queues [ 0.  1.  1.  0.]\n",
      "control taken [[ 0.  1.  1.  0.]\n",
      " [ 0.  0.  0.  1.]\n",
      " [ 0.  0.  0.  1.]\n",
      " [ 0.  0.  0.  0.]]\n",
      "k1 queues [ 3.  2.  0.  0.]\n",
      "k2 queues [ 0.  1.  1.  0.]\n",
      "control taken [[ 0.  1.  1.  0.]\n",
      " [ 0.  0.  0.  1.]\n",
      " [ 0.  0.  0.  1.]\n",
      " [ 0.  0.  0.  0.]]\n",
      "k1 queues [ 3.  2.  0.  0.]\n",
      "k2 queues [ 1.  1.  1.  0.]\n",
      "control taken [[ 0.  1.  1.  0.]\n",
      " [ 0.  0.  0.  1.]\n",
      " [ 0.  0.  0.  1.]\n",
      " [ 0.  0.  0.  0.]]\n",
      "k1 queues [ 3.  2.  0.  0.]\n",
      "k2 queues [ 1.  1.  0.  0.]\n",
      "control taken [[ 0.  1.  1.  0.]\n",
      " [ 0.  0.  0.  1.]\n",
      " [ 0.  0.  0.  0.]\n",
      " [ 0.  0.  0.  0.]]\n",
      "k1 queues [ 3.  2.  0.  0.]\n",
      "k2 queues [ 2.  1.  0.  0.]\n",
      "control taken [[ 0.  1.  1.  0.]\n",
      " [ 0.  0.  0.  1.]\n",
      " [ 0.  0.  0.  0.]\n",
      " [ 0.  0.  0.  0.]]\n",
      "k1 queues [ 4.  2.  0.  0.]\n",
      "k2 queues [ 2.  1.  0.  0.]\n",
      "control taken [[ 0.  1.  1.  0.]\n",
      " [ 0.  0.  0.  1.]\n",
      " [ 0.  0.  0.  0.]\n",
      " [ 0.  0.  0.  0.]]\n",
      "[array([ 4.,  2.,  0.,  0.]), array([ 11.,   1.,   0.,   0.]), array([ 8.,  1.,  2.,  0.])]\n",
      "[array([ 2.,  1.,  0.,  0.]), array([ 4.,  1.,  0.,  0.]), array([ 5.,  1.,  1.,  0.])]\n"
     ]
    }
   ],
   "source": [
    "# period length\n",
    "T=10\n",
    "\n",
    "# initialize the interference links matrix\n",
    "# 0 means no interference, 1 means interference\n",
    "interf_links_01=np.random.choice(2, (N[0],N[1]))\n",
    "interf_links_02=np.random.choice(2, (N[0],N[2]))\n",
    "interf_links_12=np.random.choice(2, (N[1],N[2]))\n",
    "# the first is the interferences between networks 0 and 1\n",
    "# the second is the interferences between networks 0 and 2\n",
    "# the third is the interferences between networks 1 and 2\n",
    "interf_links=[interf_links_01,interf_links_02, interf_links_12]\n",
    "interf_nets=[(0,1),(0,2),(1,2)]\n",
    "\n",
    "control=[np.zeros((N[0],N[0])),np.zeros((N[1],N[1])),np.zeros((N[2],N[2]))]\n",
    "commodity=[np.zeros((N[0],N[0])),np.zeros((N[1],N[1])),np.zeros((N[2],N[2]))]\n",
    "state=intra_links\n",
    "\n",
    "# update the queue lengths at each time step\n",
    "for time in range(0,T):\n",
    "    # find each networks optimal control decision using backpressure\n",
    "    # the control is how many packets to send along a link, commodity is which commodity to send\n",
    "    for net in range(0,G):\n",
    "        control[net], commodity[net]=backpressure(state[net],queues_k1[net],queues_k2[net])\n",
    "\n",
    "    # choose which frequency to send along\n",
    "    \n",
    "    # random frequency generator - there are 2 frequencies freq=0 or 1\n",
    "    # initialize the interference links matrix\n",
    "    freq_net0=np.random.choice(2, (N[0],N[0]))\n",
    "    freq_net1=np.random.choice(2, (N[1],N[1]))\n",
    "    freq_net2=np.random.choice(2, (N[2],N[2]))\n",
    "    freq=[freq_net0, freq_net1, freq_net2]\n",
    "    \n",
    "    # create an interference matrix where 1 is interference and 0 is not\n",
    "    interference_freq1, interference_freq2=find_interferences(control,freq,interf_links,interf_nets)\n",
    "    \n",
    "    # move packets along unless there are interferences\n",
    "    # packet_movement function updates the queues\n",
    "    print(\"k1 queues\",queues_k1[0])\n",
    "    print(\"k2 queues\",queues_k2[0])\n",
    "    print(\"control taken\",control[0])\n",
    "    queues_k1, queues_k2=packet_movement(queues_k1, queues_k2,control,commodity, freq,interference_freq1, interference_freq2)\n",
    "    \n",
    "    # add the outside arrivals\n",
    "    queues_k1=add_arrivals(queues_k1, arrivals_k1)\n",
    "    queues_k2=add_arrivals(queues_k2, arrivals_k2)\n",
    "\n",
    "print(queues_k1)\n",
    "print(queues_k2)"
   ]
  },
  {
   "cell_type": "code",
   "execution_count": 679,
   "metadata": {
    "collapsed": false
   },
   "outputs": [
    {
     "name": "stdout",
     "output_type": "stream",
     "text": [
      "[array([ 0.,  1.,  1.,  1.]), array([ 0.,  0.,  1.,  1.]), array([ 0.,  1.,  1.,  1.])]\n",
      "[array([[0, 1, 0, 0],\n",
      "       [0, 1, 0, 0],\n",
      "       [0, 1, 0, 1],\n",
      "       [0, 1, 0, 1]]), array([[0, 0, 1, 0],\n",
      "       [0, 0, 0, 0],\n",
      "       [0, 1, 0, 1],\n",
      "       [0, 0, 0, 1]]), array([[1, 0, 1, 1],\n",
      "       [0, 0, 0, 1],\n",
      "       [0, 0, 0, 1],\n",
      "       [0, 1, 0, 1]])]\n"
     ]
    }
   ],
   "source": [
    "print(interference_freq2)\n",
    "print(interf_links)"
   ]
  },
  {
   "cell_type": "code",
   "execution_count": 5,
   "metadata": {
    "collapsed": false
   },
   "outputs": [],
   "source": [
    "def add_arrivals(queues, arrivals):\n",
    "    # for each network\n",
    "    for net in range(0,len(queues)):\n",
    "        for node in range(0,len(queues[net])):\n",
    "            if np.random.uniform(0,1)<= arrivals[net][node]:\n",
    "                queues[net][node]=queues[net][node]+1\n",
    "    return queues"
   ]
  },
  {
   "cell_type": "code",
   "execution_count": 6,
   "metadata": {
    "collapsed": false
   },
   "outputs": [],
   "source": [
    "# backpressure function inputs are the \n",
    "#     state - topology of the system - which links are on / off\n",
    "#     queues - lengths of queues at all nodes for each commodity\n",
    "# backpressure function returns the\n",
    "#     control - optimal control action - matrix of rates to send down each link per commodity and what frequency\n",
    "\n",
    "def backpressure(state,queues_k1,queues_k2):\n",
    "    # find the optimal commodity across each link\n",
    "    # set to 0 if commodity 0 is optimal, 1 if commodity 1 is optimal\n",
    "    # find the optimal weight across each link\n",
    "    commodity=np.zeros(state.shape)\n",
    "    weight=np.zeros(state.shape)\n",
    "    nodes = state.shape[0]\n",
    "    for start in range(0,nodes):\n",
    "        for end in range(0,nodes):\n",
    "            if state[start,end]>0:\n",
    "                queues_k1_diff=queues_k1[start]-queues_k1[end]\n",
    "                queues_k2_diff=queues_k2[start]-queues_k2[end]\n",
    "                m, n=opt_com_weight(queues_k1_diff,queues_k2_diff)\n",
    "                commodity[start,end]=m\n",
    "                weight[start,end]=n\n",
    "    \n",
    "    # find all of the different possible control actions\n",
    "    poss_controls = find_control_actions(state)\n",
    "    \n",
    "    # find the control actions that maximize sum of weights\n",
    "    gains=np.zeros(len(poss_controls))\n",
    "    for c in range(0,len(poss_controls)):\n",
    "        gains[c]=control_gains(poss_controls[c],weight)\n",
    "    \n",
    "    gains=gains.tolist()\n",
    "    max_value = max(gains)\n",
    "    max_index = gains.index(max_value)\n",
    "    control=poss_controls[max_index]\n",
    "    \n",
    "    return control, commodity\n",
    "\n",
    "# returns a 0 if first commodity is bigger, 1 if second is bigger, random is equal\n",
    "def opt_com_weight(com1, com2):\n",
    "    if com1>com2:\n",
    "        opt_com=0\n",
    "        weight=max(com1,0)\n",
    "    elif com2>com1:\n",
    "        opt_com=1\n",
    "        weight=max(com2,0)\n",
    "    else:\n",
    "        opt_com=np.random.choice(2)\n",
    "        if opt_com==1: \n",
    "            weight=max(com1,0)\n",
    "        else: \n",
    "            weight=max(com2,0)\n",
    "    return opt_com, weight\n",
    "\n",
    "\n",
    "# returns a list of possible control matrices\n",
    "def find_control_actions(state):\n",
    "    poss_controls=[]\n",
    "    # list of start and end indices of on links\n",
    "    start,end=np.nonzero(state)\n",
    "    nonzero_index=list(range(0,len(start)))\n",
    "    \n",
    "    set_combos=[]\n",
    "    for length in range(0,len(start)+1):\n",
    "        set_combos.append(list(itertools.combinations(nonzero_index,length)))\n",
    "    \n",
    "    for choose in range(0,len(set_combos)):\n",
    "        for j in range(0,len(set_combos[choose])):\n",
    "            control=np.zeros(state.shape)\n",
    "            for m in range(0,len(set_combos[choose][j])):\n",
    "                k=set_combos[choose][j]\n",
    "                for n in range(0,len(k)):\n",
    "                    control[start[k[n]],end[k[n]]]=state[start[k[n]],end[k[n]]]\n",
    "            poss_controls.append(control)\n",
    "    return poss_controls\n",
    "\n",
    "def control_gains(control, weights):\n",
    "    gains=np.sum(np.multiply(control, weights))\n",
    "    return gains"
   ]
  },
  {
   "cell_type": "code",
   "execution_count": 7,
   "metadata": {
    "collapsed": false
   },
   "outputs": [],
   "source": [
    "def packet_movement(queues_k1, queues_k2,control,commodity,freq,interference_freq1, interference_freq2):\n",
    "    # move packets along unless there are interferences for each network\n",
    "    for net in range(0,len(control)):\n",
    "        # for each node, check if there's and interference!!!!\n",
    "        for node1 in range(0,control[net].shape[0]):\n",
    "            for node2 in range(0,control[net].shape[1]):\n",
    "                # if control says send one along\n",
    "                if control[net][node1,node2]>0:\n",
    "                    # if transmitting on frequency, check if there's an interference\n",
    "                    if (freq[net][node1,node2]==0 and interference_freq1[net][node1]==1) or (\n",
    "                        freq[net][node1,node2]==0 and interference_freq1[net][node1]==1):\n",
    "                        \n",
    "                        # if the commodity is K1, then move K1 packet\n",
    "                        if commodity[net][node1,node2]==0:\n",
    "                            queues_k1[net][node1]=max(0,queues_k1[net][node1]-1)\n",
    "                            queues_k1[net][node2]=queues_k1[net][node2]+1\n",
    "                        # if the commodity is K2, then move K2 packet\n",
    "                        else: \n",
    "                            queues_k2[net][node1]=max(0,queues_k2[net][node1]-1)\n",
    "                            queues_k2[net][node2]=queues_k2[net][node2]+1\n",
    "        \n",
    "    # set the end of the queues to be zero - they are sinks\n",
    "        queues_k1[net][-1]=0\n",
    "        queues_k2[net][-1]=0\n",
    "    \n",
    "    return queues_k1, queues_k2\n",
    "    "
   ]
  },
  {
   "cell_type": "code",
   "execution_count": 8,
   "metadata": {
    "collapsed": false
   },
   "outputs": [],
   "source": [
    "def find_interferences(control,freq,interf_links,interf_nets):\n",
    "    interference_freq1=[np.ones((N[0])),np.ones((N[1])),np.ones((N[2]))]\n",
    "    interference_freq2=[np.ones((N[0])),np.ones((N[1])),np.ones((N[2]))]\n",
    "    for mat in range(0,len(interf_links)):\n",
    "        net1=interf_nets[mat][0]\n",
    "        net2=interf_nets[mat][1]\n",
    "        # find the freq transmitted by nodes of each network\n",
    "        for node1 in range(0,interf_links[mat].shape[0]):\n",
    "            for node2 in range(0,interf_links[mat].shape[1]):\n",
    "                # if there's an interference, then check if both nodes are transmitting\n",
    "                if interf_links[mat][node1,node2]>0:\n",
    "                    # if both nodes are on, then check frequencies\n",
    "                    if sum(control[net1][node1])>0 and sum(control[net2][node2])>0:\n",
    "                        # if both transmitting on the same frequency, then set interference to 0\n",
    "                        node1_freq=freq[net1][node1][np.nonzero(control[net1][node1])]\n",
    "                        node2_freq=freq[net2][node2][np.nonzero(control[net2][node2])]\n",
    "                        for j in range(0,len(node1_freq)):\n",
    "                            if node1_freq[j] in node2_freq:\n",
    "                                if node1_freq[j]==0:\n",
    "                                    interference_freq1[net1][node1]=0\n",
    "                                    interference_freq1[net2][node2]=0\n",
    "                                else:\n",
    "                                    interference_freq2[net1][node1]=0\n",
    "                                    interference_freq2[net2][node2]=0\n",
    "    return interference_freq1, interference_freq2"
   ]
  },
  {
   "cell_type": "code",
   "execution_count": 12,
   "metadata": {
    "collapsed": false
   },
   "outputs": [
    {
     "name": "stdout",
     "output_type": "stream",
     "text": [
      "[[1 1 0 0]\n",
      " [1 1 0 1]\n",
      " [0 0 0 1]\n",
      " [0 0 1 1]]\n"
     ]
    }
   ],
   "source": [
    "print(freq[0])"
   ]
  }
 ],
 "metadata": {
  "kernelspec": {
   "display_name": "Python 3",
   "language": "python",
   "name": "python3"
  },
  "language_info": {
   "codemirror_mode": {
    "name": "ipython",
    "version": 3
   },
   "file_extension": ".py",
   "mimetype": "text/x-python",
   "name": "python",
   "nbconvert_exporter": "python",
   "pygments_lexer": "ipython3",
   "version": "3.6.0"
  }
 },
 "nbformat": 4,
 "nbformat_minor": 2
}
